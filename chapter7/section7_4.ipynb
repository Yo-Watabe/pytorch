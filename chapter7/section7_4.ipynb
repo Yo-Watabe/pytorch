{
  "nbformat": 4,
  "nbformat_minor": 0,
  "metadata": {
    "colab": {
      "name": "section7_4.ipynb",
      "provenance": [],
      "collapsed_sections": []
    },
    "kernelspec": {
      "name": "python3",
      "display_name": "Python 3"
    },
    "accelerator": "GPU"
  },
  "cells": [
    {
      "cell_type": "code",
      "metadata": {
        "id": "tg97Lwr3Is3W",
        "colab_type": "code",
        "colab": {}
      },
      "source": [
        "# Copyright (c) 2017 Max deGroot, Ellis Brown\n",
        "# Released under the MIT license\n",
        "# https://github.com/amdegroot/ssd.pytorch\n",
        "# Updated by: Takuya Mouri"
      ],
      "execution_count": 0,
      "outputs": []
    },
    {
      "cell_type": "code",
      "metadata": {
        "id": "ukRAb4TDYQBQ",
        "colab_type": "code",
        "colab": {}
      },
      "source": [
        "## バージョンを指定する場合、セルをコメントアウトしてください。\n",
        "#!pip install torch==0.4.1\n",
        "#!pip install torchvision==0.2.1\n",
        "#!pip install numpy==1.14.6\n",
        "#!pip install matplotlib==2.1.2\n",
        "#!pip install Pillow==5.0.0"
      ],
      "execution_count": 0,
      "outputs": []
    },
    {
      "cell_type": "code",
      "metadata": {
        "id": "36x7-x89zFWm",
        "colab_type": "code",
        "outputId": "08c74472-29a7-4024-bc92-a99ba59b2436",
        "colab": {
          "base_uri": "https://localhost:8080/",
          "height": 34
        }
      },
      "source": [
        "# version確認\n",
        "import torch\n",
        "print(torch.__version__)"
      ],
      "execution_count": 1,
      "outputs": [
        {
          "output_type": "stream",
          "text": [
            "1.1.0\n"
          ],
          "name": "stdout"
        }
      ]
    },
    {
      "cell_type": "code",
      "metadata": {
        "id": "jjjwuq-qMBJP",
        "colab_type": "code",
        "outputId": "d35e0fd5-d70d-45e5-dd86-1fa70a075283",
        "colab": {
          "base_uri": "https://localhost:8080/",
          "height": 34
        }
      },
      "source": [
        "# GPUの接続\n",
        "import torch\n",
        "torch.cuda.is_available()"
      ],
      "execution_count": 0,
      "outputs": [
        {
          "output_type": "execute_result",
          "data": {
            "text/plain": [
              "True"
            ]
          },
          "metadata": {
            "tags": []
          },
          "execution_count": 2
        }
      ]
    },
    {
      "cell_type": "markdown",
      "metadata": {
        "id": "PWp4OFE_MFQR",
        "colab_type": "text"
      },
      "source": [
        "# Google Driveへのマウント（Colab利用時のみ）"
      ]
    },
    {
      "cell_type": "code",
      "metadata": {
        "id": "ibiiS_A4nJ_k",
        "colab_type": "code",
        "outputId": "305927e8-44f8-4968-9290-c17e56ae02d0",
        "colab": {
          "base_uri": "https://localhost:8080/",
          "height": 34
        }
      },
      "source": [
        "# Google Driveにマウント\n",
        "from google.colab import drive\n",
        "drive.mount('/content/gdrive')"
      ],
      "execution_count": 0,
      "outputs": [
        {
          "output_type": "stream",
          "text": [
            "Drive already mounted at /content/gdrive; to attempt to forcibly remount, call drive.mount(\"/content/gdrive\", force_remount=True).\n"
          ],
          "name": "stdout"
        }
      ]
    },
    {
      "cell_type": "code",
      "metadata": {
        "id": "sVZUSCUkynmF",
        "colab_type": "code",
        "colab": {}
      },
      "source": [
        "%%bash\n",
        "mkdir -p /content/git\n",
        "cd /content/git\n",
        "# git clone https://github.com/miyamotok0105/pytorch_handbook.git\n",
        "# git clone https://github.com/Yo-Watabe/pytorch.git\n",
        "# git clone -b max_iter_30 https://github.com/Yo-Watabe/pytorch.git max_iter_30\n",
        "# git clone https://github.com/Shenggan/BCCD_Dataset.git\n",
        "wget https://s3.amazonaws.com/amdegroot-models/vgg16_reducedfc.pth"
      ],
      "execution_count": 0,
      "outputs": []
    },
    {
      "cell_type": "code",
      "metadata": {
        "id": "wUvW0tiznVy5",
        "colab_type": "code",
        "outputId": "c9385c93-4f51-4657-f947-0859d60399cf",
        "colab": {
          "base_uri": "https://localhost:8080/",
          "height": 34
        }
      },
      "source": [
        "# フォルダ移動\n",
        "# cd /content/gdrive/My Drive/Colab Notebooks/pytorch_handbook/chapter7\n",
        "#  cd /content/git/pytorch/chapter7\n",
        "cd /content/git/max_iter_30/chapter7"
      ],
      "execution_count": 33,
      "outputs": [
        {
          "output_type": "stream",
          "text": [
            "/content/git/max_iter_30/chapter7\n"
          ],
          "name": "stdout"
        }
      ]
    },
    {
      "cell_type": "code",
      "metadata": {
        "id": "JZdBksSozVa3",
        "colab_type": "code",
        "colab": {
          "base_uri": "https://localhost:8080/",
          "height": 34
        },
        "outputId": "86f5341b-310e-4b35-f6cf-6427a9a42f61"
      },
      "source": [
        "%%bash\n",
        "mkdir VOCdevkit\n",
        "cp -r /content/git/BCCD_Dataset/BCCD VOCdevkit/BCCD\n",
        "cp /content/git/httpsvgg16_reducedfc.pth weights "
      ],
      "execution_count": 37,
      "outputs": [
        {
          "output_type": "stream",
          "text": [
            "cp: cannot stat '/content/git/httpsvgg16_reducedfc.pth': No such file or directory\n"
          ],
          "name": "stderr"
        }
      ]
    },
    {
      "cell_type": "code",
      "metadata": {
        "id": "Kv3iHeqZz5sw",
        "colab_type": "code",
        "colab": {
          "base_uri": "https://localhost:8080/",
          "height": 68
        },
        "outputId": "0eb49aba-22fa-446d-d718-4ca52ac03ca7"
      },
      "source": [
        "%%bash\n",
        "ls VOCdevkit\n",
        "ls weights"
      ],
      "execution_count": 39,
      "outputs": [
        {
          "output_type": "stream",
          "text": [
            "BCCD\n",
            "vgg16_reducedfc.pth\n",
            "weightsのファイル取得先.txt\n"
          ],
          "name": "stdout"
        }
      ]
    },
    {
      "cell_type": "code",
      "metadata": {
        "id": "Mgu9TLgsNvcW",
        "colab_type": "code",
        "colab": {}
      },
      "source": [
        "# ファイル名を表示\n",
        "!pwd\n",
        "!ls\n",
        "# !cat data/config.py"
      ],
      "execution_count": 0,
      "outputs": []
    },
    {
      "cell_type": "markdown",
      "metadata": {
        "id": "OIEKTtxSN3xL",
        "colab_type": "text"
      },
      "source": [
        "# ベースネットVGG-16のパラメータをダウンロード（フォルダweights未格納時）"
      ]
    },
    {
      "cell_type": "code",
      "metadata": {
        "id": "QjoaVYNIVmSq",
        "colab_type": "code",
        "outputId": "e1d5b827-529b-424a-c184-6ca82e4c7d4f",
        "colab": {
          "base_uri": "https://localhost:8080/",
          "height": 204
        }
      },
      "source": [
        "# ベースネットワークのパラメータファイルをダウンロード\n",
        "!wget https://s3.amazonaws.com/amdegroot-models/vgg16_reducedfc.pth"
      ],
      "execution_count": 0,
      "outputs": [
        {
          "output_type": "stream",
          "text": [
            "--2019-04-05 13:22:28--  https://s3.amazonaws.com/amdegroot-models/vgg16_reducedfc.pth\n",
            "Resolving s3.amazonaws.com (s3.amazonaws.com)... 52.216.104.109\n",
            "Connecting to s3.amazonaws.com (s3.amazonaws.com)|52.216.104.109|:443... connected.\n",
            "HTTP request sent, awaiting response... 200 OK\n",
            "Length: 81938914 (78M) [binary/octet-stream]\n",
            "Saving to: ‘vgg16_reducedfc.pth.2’\n",
            "\n",
            "vgg16_reducedfc.pth 100%[===================>]  78.14M  23.1MB/s    in 3.7s    \n",
            "\n",
            "2019-04-05 13:22:33 (21.1 MB/s) - ‘vgg16_reducedfc.pth.2’ saved [81938914/81938914]\n",
            "\n"
          ],
          "name": "stdout"
        }
      ]
    },
    {
      "cell_type": "code",
      "metadata": {
        "id": "iRyJbVdzoEm6",
        "colab_type": "code",
        "colab": {}
      },
      "source": [
        "import os\n",
        "# フォルダweights未作成の場合に作成\n",
        "if not os.path.exists('weights/'):\n",
        "    os.mkdir('weights/')"
      ],
      "execution_count": 0,
      "outputs": []
    },
    {
      "cell_type": "code",
      "metadata": {
        "id": "da-ySmBbpIBa",
        "colab_type": "code",
        "colab": {}
      },
      "source": [
        "# パラメータファイルをフォルダweightsに移動\n",
        "!mv vgg16_reducedfc.pth weights"
      ],
      "execution_count": 0,
      "outputs": []
    },
    {
      "cell_type": "markdown",
      "metadata": {
        "id": "RGCwuMMVOeNK",
        "colab_type": "text"
      },
      "source": [
        "# データセットVOC2007(0.9GB)のダウンロード（フォルダVOCdevkit未格納時）"
      ]
    },
    {
      "cell_type": "code",
      "metadata": {
        "id": "Z-JsUnPoG6Y_",
        "colab_type": "code",
        "outputId": "5156b730-378e-496f-fa4d-1bf800e11398",
        "colab": {
          "base_uri": "https://localhost:8080/",
          "height": 391
        }
      },
      "source": [
        "# データセットVOC2007をダウンロード \n",
        "!wget http://host.robots.ox.ac.uk/pascal/VOC/voc2007/VOCtrainval_06-Nov-2007.tar\n",
        "!tar xf VOCtrainval_06-Nov-2007.tar\n",
        "\n",
        "!wget http://host.robots.ox.ac.uk/pascal/VOC/voc2007/VOCtest_06-Nov-2007.tar\n",
        "!tar xf VOCtest_06-Nov-2007.tar"
      ],
      "execution_count": 0,
      "outputs": [
        {
          "output_type": "stream",
          "text": [
            "--2019-03-30 13:45:05--  http://host.robots.ox.ac.uk/pascal/VOC/voc2007/VOCtrainval_06-Nov-2007.tar\n",
            "Resolving host.robots.ox.ac.uk (host.robots.ox.ac.uk)... 129.67.94.152\n",
            "Connecting to host.robots.ox.ac.uk (host.robots.ox.ac.uk)|129.67.94.152|:80... connected.\n",
            "HTTP request sent, awaiting response... 200 OK\n",
            "Length: 460032000 (439M) [application/x-tar]\n",
            "Saving to: ‘VOCtrainval_06-Nov-2007.tar’\n",
            "\n",
            "VOCtrainval_06-Nov- 100%[===================>] 438.72M  43.8MB/s    in 9.9s    \n",
            "\n",
            "2019-03-30 13:45:15 (44.1 MB/s) - ‘VOCtrainval_06-Nov-2007.tar’ saved [460032000/460032000]\n",
            "\n",
            "--2019-03-30 13:46:44--  http://host.robots.ox.ac.uk/pascal/VOC/voc2007/VOCtest_06-Nov-2007.tar\n",
            "Resolving host.robots.ox.ac.uk (host.robots.ox.ac.uk)... 129.67.94.152\n",
            "Connecting to host.robots.ox.ac.uk (host.robots.ox.ac.uk)|129.67.94.152|:80... connected.\n",
            "HTTP request sent, awaiting response... 200 OK\n",
            "Length: 451020800 (430M) [application/x-tar]\n",
            "Saving to: ‘VOCtest_06-Nov-2007.tar’\n",
            "\n",
            "VOCtest_06-Nov-2007 100%[===================>] 430.13M  41.5MB/s    in 10s     \n",
            "\n",
            "2019-03-30 13:46:55 (42.2 MB/s) - ‘VOCtest_06-Nov-2007.tar’ saved [451020800/451020800]\n",
            "\n"
          ],
          "name": "stdout"
        }
      ]
    },
    {
      "cell_type": "markdown",
      "metadata": {
        "id": "IWnR9nr1ledy",
        "colab_type": "text"
      },
      "source": [
        "# データセットVOC2012(1.9GB)のダウンロード（フォルダVOCdevkit未格納時）"
      ]
    },
    {
      "cell_type": "code",
      "metadata": {
        "id": "Jyjyc5vTHpwk",
        "colab_type": "code",
        "outputId": "82f34fe7-8aae-447a-8a06-d656557a1f77",
        "colab": {
          "base_uri": "https://localhost:8080/",
          "height": 204
        }
      },
      "source": [
        "# データセットVOC2012をダウンロード \n",
        "!wget http://host.robots.ox.ac.uk/pascal/VOC/voc2012/VOCtrainval_11-May-2012.tar\n",
        "!tar xf VOCtrainval_11-May-2012.tar"
      ],
      "execution_count": 0,
      "outputs": [
        {
          "output_type": "stream",
          "text": [
            "--2019-04-05 16:21:27--  http://host.robots.ox.ac.uk/pascal/VOC/voc2012/VOCtrainval_11-May-2012.tar\n",
            "Resolving host.robots.ox.ac.uk (host.robots.ox.ac.uk)... 129.67.94.152\n",
            "Connecting to host.robots.ox.ac.uk (host.robots.ox.ac.uk)|129.67.94.152|:80... connected.\n",
            "HTTP request sent, awaiting response... 200 OK\n",
            "Length: 1999639040 (1.9G) [application/x-tar]\n",
            "Saving to: ‘VOCtrainval_11-May-2012.tar’\n",
            "\n",
            "VOCtrainval_11-May- 100%[===================>]   1.86G  42.8MB/s    in 45s     \n",
            "\n",
            "2019-04-05 16:22:12 (42.4 MB/s) - ‘VOCtrainval_11-May-2012.tar’ saved [1999639040/1999639040]\n",
            "\n"
          ],
          "name": "stdout"
        }
      ]
    },
    {
      "cell_type": "markdown",
      "metadata": {
        "id": "Byf3Z27lO1M6",
        "colab_type": "text"
      },
      "source": [
        "# SSDネットワークの学習"
      ]
    },
    {
      "cell_type": "code",
      "metadata": {
        "id": "FNoiaSbinwGP",
        "colab_type": "code",
        "outputId": "29a40991-dee9-4f64-e146-5c4ad72ee83e",
        "colab": {
          "base_uri": "https://localhost:8080/",
          "height": 85
        }
      },
      "source": [
        "# ファイル名を表示\n",
        "!ls"
      ],
      "execution_count": 0,
      "outputs": [
        {
          "output_type": "stream",
          "text": [
            "data\t     section7_4.ipynb\t    utils\n",
            "demo\t     section7_4_v0.4.ipynb  VOCdevkit\n",
            "layers\t     section7_4_v1.0.ipynb  VOCtrainval_11-May-2012.tar\n",
            "__pycache__  ssd.py\t\t    weights\n"
          ],
          "name": "stdout"
        }
      ]
    },
    {
      "cell_type": "code",
      "metadata": {
        "id": "icr3Bcpet_cG",
        "colab_type": "code",
        "colab": {}
      },
      "source": [
        "from data import *\n",
        "from utils.augmentations import SSDAugmentation\n",
        "from layers.modules import MultiBoxLoss\n",
        "from ssd import build_ssd\n",
        "import os\n",
        "import sys\n",
        "import time\n",
        "import torch\n",
        "import torch.nn as nn\n",
        "import torch.optim as optim\n",
        "import torch.backends.cudnn as cudnn\n",
        "import torch.nn.init as init\n",
        "import torch.utils.data as data\n",
        "import numpy as np\n",
        "import argparse"
      ],
      "execution_count": 0,
      "outputs": []
    },
    {
      "cell_type": "code",
      "metadata": {
        "id": "WiQV5Z6KQj-V",
        "colab_type": "code",
        "colab": {}
      },
      "source": [
        "# 学習の再開時はargs['resume']にパラメータファイルを指定\n",
        "args = {'dataset':'BCCD',  # VOC → BCCD\n",
        "        'basenet':'vgg16_reducedfc.pth',\n",
        "        'batch_size':12,\n",
        "        'resume':'',\n",
        "        'start_iter':0,\n",
        "        'num_workers':4,\n",
        "        'cuda':True,\n",
        "        'lr':5e-4,\n",
        "        'momentum':0.9,\n",
        "        'weight_decay':5e-4,\n",
        "        'gamma':0.1,\n",
        "        'save_folder':'weights/'\n",
        "       }"
      ],
      "execution_count": 0,
      "outputs": []
    },
    {
      "cell_type": "code",
      "metadata": {
        "id": "oWYEDUASQuhU",
        "colab_type": "code",
        "colab": {}
      },
      "source": [
        "# Tensor作成時のデフォルトにGPU Tensorを設定\n",
        "if torch.cuda.is_available():\n",
        "    if args['cuda']:\n",
        "        torch.set_default_tensor_type('torch.cuda.FloatTensor')\n",
        "    if not args['cuda']:\n",
        "        print(\"WARNING: It looks like you have a CUDA device, but aren't \" +\n",
        "              \"using CUDA.\\nRun with --cuda for optimal training speed.\")\n",
        "        torch.set_default_tensor_type('torch.FloatTensor')\n",
        "else:\n",
        "    torch.set_default_tensor_type('torch.FloatTensor')"
      ],
      "execution_count": 0,
      "outputs": []
    },
    {
      "cell_type": "code",
      "metadata": {
        "id": "g6A6gvyC0hUL",
        "colab_type": "code",
        "colab": {
          "base_uri": "https://localhost:8080/",
          "height": 34
        },
        "outputId": "ef3cebbb-9cc1-4f45-8f0a-32c55ff9a330"
      },
      "source": [
        "# リロード __init__\n",
        "import importlib\n",
        "importlib.reload(__import__('data'))\n",
        "from data import *\n",
        "print(voc['max_iter'])"
      ],
      "execution_count": 68,
      "outputs": [
        {
          "output_type": "stream",
          "text": [
            "3000\n"
          ],
          "name": "stdout"
        }
      ]
    },
    {
      "cell_type": "code",
      "metadata": {
        "id": "-l99I9gTQ3bq",
        "colab_type": "code",
        "colab": {}
      },
      "source": [
        "# 訓練データの設定\n",
        "cfg = voc\n",
        "dataset = VOCDetection(root=VOC_ROOT,\n",
        "                       transform=SSDAugmentation(cfg['min_dim'],\n",
        "                                                 MEANS))"
      ],
      "execution_count": 0,
      "outputs": []
    },
    {
      "cell_type": "code",
      "metadata": {
        "id": "y-yIlvtmQ5cC",
        "colab_type": "code",
        "colab": {}
      },
      "source": [
        "# ネットワークの定義\n",
        "ssd_net = build_ssd('train', cfg['min_dim'], cfg['num_classes'])\n",
        "device = 'cuda' if torch.cuda.is_available() else 'cpu'\n",
        "# ネットワークをGPUに転送\n",
        "net = ssd_net.to(device)"
      ],
      "execution_count": 0,
      "outputs": []
    },
    {
      "cell_type": "code",
      "metadata": {
        "id": "YwroXb1CT9TX",
        "colab_type": "code",
        "outputId": "ce46a355-435b-4158-e899-57b4c8b99dc4",
        "colab": {
          "base_uri": "https://localhost:8080/",
          "height": 34
        }
      },
      "source": [
        "# 学習の再開時はargs['resume']のパラメータをロード\n",
        "if args['resume']:\n",
        "    print('Resuming training, loading {}...'.format(args['resume']))\n",
        "    ssd_net.load_weights(args['save_folder'] + args['resume'])\n",
        "# 学習の開始時はargs['basenet']のパラメータをロード    \n",
        "else:\n",
        "    vgg_weights = torch.load(args['save_folder'] + args['basenet'])\n",
        "    print('Loading base network...')\n",
        "    ssd_net.vgg.load_state_dict(vgg_weights)"
      ],
      "execution_count": 47,
      "outputs": [
        {
          "output_type": "stream",
          "text": [
            "Loading base network...\n"
          ],
          "name": "stdout"
        }
      ]
    },
    {
      "cell_type": "code",
      "metadata": {
        "id": "hiqc2gTuaSnF",
        "colab_type": "code",
        "colab": {}
      },
      "source": [
        "# ネットワークのモジュールリストを出力\n",
        "print(net)"
      ],
      "execution_count": 0,
      "outputs": []
    },
    {
      "cell_type": "code",
      "metadata": {
        "id": "RHAfsL58dD-e",
        "colab_type": "code",
        "colab": {}
      },
      "source": [
        "if args['cuda']:\n",
        "    net = torch.nn.DataParallel(ssd_net)\n",
        "    cudnn.benchmark = True"
      ],
      "execution_count": 0,
      "outputs": []
    },
    {
      "cell_type": "code",
      "metadata": {
        "id": "FJLfVkaFv1Ef",
        "colab_type": "code",
        "colab": {}
      },
      "source": [
        "def adjust_learning_rate(optimizer, gamma, step):\n",
        "    \"\"\"Sets the learning rate to the initial LR decayed by 10 at every\n",
        "        specified step\n",
        "    # Adapted from PyTorch Imagenet example:\n",
        "    # https://github.com/pytorch/examples/blob/master/imagenet/main.py\n",
        "    \"\"\"\n",
        "    lr = args['lr'] * (gamma ** (step))\n",
        "    for param_group in optimizer.param_groups:\n",
        "        param_group['lr'] = lr\n",
        "\n",
        "\n",
        "def xavier(param):\n",
        "    init.xavier_uniform_(param)\n",
        "\n",
        "\n",
        "def weights_init(m):\n",
        "    if isinstance(m, nn.Conv2d):\n",
        "        xavier(m.weight.data)\n",
        "        m.bias.data.zero_()"
      ],
      "execution_count": 0,
      "outputs": []
    },
    {
      "cell_type": "code",
      "metadata": {
        "id": "RoXXclmoUMxB",
        "colab_type": "code",
        "outputId": "49f99be2-95db-4ac8-e37e-fbd14b3f331d",
        "colab": {
          "base_uri": "https://localhost:8080/",
          "height": 34
        }
      },
      "source": [
        "# 新規モデル学習時は追加ネットワークの畳み込み、位置推定、クラス分類の畳み込みパラメータを初期化する\n",
        "if not args['resume']:\n",
        "    print('Initializing weights...')\n",
        "    # initialize newly added layers' weights with xavier method\n",
        "    ssd_net.extras.apply(weights_init)\n",
        "    ssd_net.loc.apply(weights_init)\n",
        "    ssd_net.conf.apply(weights_init)"
      ],
      "execution_count": 51,
      "outputs": [
        {
          "output_type": "stream",
          "text": [
            "Initializing weights...\n"
          ],
          "name": "stdout"
        }
      ]
    },
    {
      "cell_type": "code",
      "metadata": {
        "id": "Jxv64mg77una",
        "colab_type": "code",
        "colab": {}
      },
      "source": [
        "# 損失関数の設定\n",
        "criterion = MultiBoxLoss(cfg['num_classes'], 0.5, True, 0, True, 3, 0.5,\n",
        "                         False, args['cuda'])"
      ],
      "execution_count": 0,
      "outputs": []
    },
    {
      "cell_type": "code",
      "metadata": {
        "id": "6CYNS2LSUWCy",
        "colab_type": "code",
        "colab": {}
      },
      "source": [
        "# 最適化パラメータの設定\n",
        "optimizer = optim.SGD(net.parameters(), lr=args['lr'], momentum=args['momentum'],\n",
        "                      weight_decay=args['weight_decay'])"
      ],
      "execution_count": 0,
      "outputs": []
    },
    {
      "cell_type": "code",
      "metadata": {
        "id": "04iQnv9rUa3y",
        "colab_type": "code",
        "outputId": "ed8e19a1-813e-4293-c6a7-28947998a453",
        "colab": {
          "base_uri": "https://localhost:8080/",
          "height": 139
        }
      },
      "source": [
        "# 訓練モード\n",
        "net.train()\n",
        "# loss counters\n",
        "loc_loss = 0\n",
        "conf_loss = 0\n",
        "epoch = 0\n",
        "print('Loading the dataset...')\n",
        "\n",
        "epoch_size = len(dataset) // args['batch_size']\n",
        "print('dataset_size', len(dataset))\n",
        "print('epoch_size', epoch_size)\n",
        "print('Training SSD on:', dataset.name)\n",
        "print('Using the specified args:')\n",
        "print(args)\n",
        "\n",
        "step_index = 0"
      ],
      "execution_count": 54,
      "outputs": [
        {
          "output_type": "stream",
          "text": [
            "Loading the dataset...\n",
            "dataset_size 292\n",
            "epoch_size 24\n",
            "Training SSD on: VOC0712\n",
            "Using the specified args:\n",
            "{'dataset': 'BCCD', 'basenet': 'vgg16_reducedfc.pth', 'batch_size': 12, 'resume': '', 'start_iter': 0, 'num_workers': 4, 'cuda': True, 'lr': 0.0005, 'momentum': 0.9, 'weight_decay': 0.0005, 'gamma': 0.1, 'save_folder': 'weights/'}\n"
          ],
          "name": "stdout"
        }
      ]
    },
    {
      "cell_type": "code",
      "metadata": {
        "id": "5-RZGtOwUdtT",
        "colab_type": "code",
        "colab": {}
      },
      "source": [
        "# 訓練データのデータローダへの設定\n",
        "data_loader = data.DataLoader(dataset, args['batch_size'],\n",
        "                              num_workers=args['num_workers'],\n",
        "                              shuffle=True, collate_fn=detection_collate,\n",
        "                              pin_memory=True)"
      ],
      "execution_count": 0,
      "outputs": []
    },
    {
      "cell_type": "code",
      "metadata": {
        "id": "U1fd8Y2dUnGY",
        "colab_type": "code",
        "outputId": "ea9d73df-3bf1-4333-900c-61b23ba1f88a",
        "colab": {
          "base_uri": "https://localhost:8080/",
          "height": 1000
        }
      },
      "source": [
        "# 学習の開始\n",
        "batch_iterator = None\n",
        "# iterationでループして、cfg['max_iter']まで学習する\n",
        "for iteration in range(args['start_iter'], cfg['max_iter']):\n",
        "    # 学習開始時または1epoch終了後にdata_loaderから訓練データをロードする\n",
        "    if (not batch_iterator) or (iteration % epoch_size ==0):\n",
        "        batch_iterator = iter(data_loader)\n",
        "        loc_loss = 0\n",
        "        conf_loss = 0\n",
        "        epoch += 1\n",
        "\n",
        "    if iteration in cfg['lr_steps']:\n",
        "        step_index += 1\n",
        "        adjust_learning_rate(optimizer, args['gamma'], step_index)\n",
        "        \n",
        "    # load train data\n",
        "    # バッチサイズ分の訓練データをload\n",
        "    images, targets = next(batch_iterator)\n",
        "    \n",
        "    # 画像をGPUに転送\n",
        "    images = images.to(device)\n",
        "    # アノテーションをGPUに転送    \n",
        "    targets = [ann.to(device) for ann in targets]\n",
        "\n",
        "    # forward\n",
        "    t0 = time.time()\n",
        "    # 順伝播の計算\n",
        "    out = net(images)\n",
        "    # 勾配の初期化\n",
        "    optimizer.zero_grad()\n",
        "    # 損失関数の計算\n",
        "    loss_l, loss_c = criterion(out, targets)\n",
        "    loss = loss_l + loss_c\n",
        "    # 勾配の計算\n",
        "    loss.backward()\n",
        "    # パラメータの更新\n",
        "    optimizer.step()\n",
        "    t1 = time.time()\n",
        "    # 損失関数の更新\n",
        "    loc_loss += loss_l.item()\n",
        "    conf_loss += loss_c.item()\n",
        "    \n",
        "    #ログの出力\n",
        "    if iteration % 10 == 0:\n",
        "        print('timer: %.4f sec.' % (t1 - t0))\n",
        "        print('iter ' + repr(iteration) + ' || Loss: %.4f ||' % (loss.item()), end=' ')\n",
        "\n",
        "# 学習済みモデルの保存\n",
        "torch.save(ssd_net.state_dict(),\n",
        "           args['save_folder'] + '' + args['dataset'] + '.pth')"
      ],
      "execution_count": 56,
      "outputs": [
        {
          "output_type": "stream",
          "text": [
            "/usr/local/lib/python3.6/dist-packages/torch/nn/_reduction.py:46: UserWarning: size_average and reduce args will be deprecated, please use reduction='sum' instead.\n",
            "  warnings.warn(warning.format(ret))\n"
          ],
          "name": "stderr"
        },
        {
          "output_type": "stream",
          "text": [
            "timer: 25.2376 sec.\n",
            "iter 0 || Loss: 25.2286 || timer: 0.3755 sec.\n",
            "iter 10 || Loss: 12.8389 || timer: 0.3562 sec.\n",
            "iter 20 || Loss: 12.0622 || timer: 0.3790 sec.\n",
            "iter 30 || Loss: 8.7135 || timer: 0.3543 sec.\n",
            "iter 40 || Loss: 7.0370 || timer: 0.5057 sec.\n",
            "iter 50 || Loss: inf || timer: 0.3881 sec.\n",
            "iter 60 || Loss: 5.1855 || timer: 0.3574 sec.\n",
            "iter 70 || Loss: 5.3430 || timer: 0.4097 sec.\n",
            "iter 80 || Loss: 5.1715 || timer: 0.3605 sec.\n",
            "iter 90 || Loss: 5.5093 || timer: 0.3823 sec.\n",
            "iter 100 || Loss: 4.6061 || timer: 0.3811 sec.\n",
            "iter 110 || Loss: 4.5457 || timer: 0.5866 sec.\n",
            "iter 120 || Loss: 4.8644 || timer: 0.4010 sec.\n",
            "iter 130 || Loss: 4.5537 || timer: 0.3683 sec.\n",
            "iter 140 || Loss: 4.3580 || timer: 0.3812 sec.\n",
            "iter 150 || Loss: 4.6283 || timer: 0.3677 sec.\n",
            "iter 160 || Loss: 4.1423 || timer: 0.4102 sec.\n",
            "iter 170 || Loss: 4.5928 || timer: 0.3803 sec.\n",
            "iter 180 || Loss: 4.0652 || timer: 0.3644 sec.\n",
            "iter 190 || Loss: inf || timer: 0.3884 sec.\n",
            "iter 200 || Loss: 4.3983 || timer: 0.3672 sec.\n",
            "iter 210 || Loss: 4.5527 || timer: 0.3793 sec.\n",
            "iter 220 || Loss: 4.6866 || timer: 0.3808 sec.\n",
            "iter 230 || Loss: 4.0568 || timer: 0.5517 sec.\n",
            "iter 240 || Loss: 3.8407 || timer: 0.3833 sec.\n",
            "iter 250 || Loss: 4.2950 || timer: 0.3714 sec.\n",
            "iter 260 || Loss: 3.8036 || timer: 0.3805 sec.\n",
            "iter 270 || Loss: 3.9300 || timer: 0.3581 sec.\n",
            "iter 280 || Loss: 4.3523 || timer: 0.4043 sec.\n",
            "iter 290 || Loss: 3.8259 || timer: 0.4032 sec.\n",
            "iter 300 || Loss: 3.8616 || timer: 0.3553 sec.\n",
            "iter 310 || Loss: 3.3121 || timer: 0.3863 sec.\n",
            "iter 320 || Loss: 4.1681 || timer: 0.3566 sec.\n",
            "iter 330 || Loss: 4.1769 || timer: 0.4039 sec.\n",
            "iter 340 || Loss: 3.9353 || timer: 0.3799 sec.\n",
            "iter 350 || Loss: 3.5967 || timer: 0.6637 sec.\n",
            "iter 360 || Loss: 3.4325 || timer: 0.3873 sec.\n",
            "iter 370 || Loss: 3.6193 || timer: 0.3590 sec.\n",
            "iter 380 || Loss: 3.7300 || timer: 0.3937 sec.\n",
            "iter 390 || Loss: 3.8549 || timer: 0.3627 sec.\n",
            "iter 400 || Loss: 3.3040 || timer: 0.4559 sec.\n",
            "iter 410 || Loss: 3.6199 || timer: 0.4000 sec.\n",
            "iter 420 || Loss: 3.1825 || timer: 0.3541 sec.\n",
            "iter 430 || Loss: 3.2085 || timer: 0.3874 sec.\n",
            "iter 440 || Loss: 3.8352 || timer: 0.3661 sec.\n",
            "iter 450 || Loss: inf || timer: 0.4023 sec.\n",
            "iter 460 || Loss: 3.4479 || timer: 0.3925 sec.\n",
            "iter 470 || Loss: 3.1696 || timer: 0.6210 sec.\n",
            "iter 480 || Loss: 3.1951 || timer: 0.3924 sec.\n",
            "iter 490 || Loss: 3.3580 || timer: 0.3642 sec.\n",
            "iter 500 || Loss: 3.2370 || timer: 0.3782 sec.\n",
            "iter 510 || Loss: 3.2438 || timer: 0.3630 sec.\n",
            "iter 520 || Loss: 3.5618 || timer: 0.3841 sec.\n",
            "iter 530 || Loss: 3.1030 || "
          ],
          "name": "stdout"
        },
        {
          "output_type": "error",
          "ename": "KeyboardInterrupt",
          "evalue": "ignored",
          "traceback": [
            "\u001b[0;31m---------------------------------------------------------------------------\u001b[0m",
            "\u001b[0;31mKeyboardInterrupt\u001b[0m                         Traceback (most recent call last)",
            "\u001b[0;32m<ipython-input-56-b6fb2763610e>\u001b[0m in \u001b[0;36m<module>\u001b[0;34m()\u001b[0m\n\u001b[1;32m     29\u001b[0m     \u001b[0moptimizer\u001b[0m\u001b[0;34m.\u001b[0m\u001b[0mzero_grad\u001b[0m\u001b[0;34m(\u001b[0m\u001b[0;34m)\u001b[0m\u001b[0;34m\u001b[0m\u001b[0;34m\u001b[0m\u001b[0m\n\u001b[1;32m     30\u001b[0m     \u001b[0;31m# 損失関数の計算\u001b[0m\u001b[0;34m\u001b[0m\u001b[0;34m\u001b[0m\u001b[0;34m\u001b[0m\u001b[0m\n\u001b[0;32m---> 31\u001b[0;31m     \u001b[0mloss_l\u001b[0m\u001b[0;34m,\u001b[0m \u001b[0mloss_c\u001b[0m \u001b[0;34m=\u001b[0m \u001b[0mcriterion\u001b[0m\u001b[0;34m(\u001b[0m\u001b[0mout\u001b[0m\u001b[0;34m,\u001b[0m \u001b[0mtargets\u001b[0m\u001b[0;34m)\u001b[0m\u001b[0;34m\u001b[0m\u001b[0;34m\u001b[0m\u001b[0m\n\u001b[0m\u001b[1;32m     32\u001b[0m     \u001b[0mloss\u001b[0m \u001b[0;34m=\u001b[0m \u001b[0mloss_l\u001b[0m \u001b[0;34m+\u001b[0m \u001b[0mloss_c\u001b[0m\u001b[0;34m\u001b[0m\u001b[0;34m\u001b[0m\u001b[0m\n\u001b[1;32m     33\u001b[0m     \u001b[0;31m# 勾配の計算\u001b[0m\u001b[0;34m\u001b[0m\u001b[0;34m\u001b[0m\u001b[0;34m\u001b[0m\u001b[0m\n",
            "\u001b[0;32m/usr/local/lib/python3.6/dist-packages/torch/nn/modules/module.py\u001b[0m in \u001b[0;36m__call__\u001b[0;34m(self, *input, **kwargs)\u001b[0m\n\u001b[1;32m    491\u001b[0m             \u001b[0mresult\u001b[0m \u001b[0;34m=\u001b[0m \u001b[0mself\u001b[0m\u001b[0;34m.\u001b[0m\u001b[0m_slow_forward\u001b[0m\u001b[0;34m(\u001b[0m\u001b[0;34m*\u001b[0m\u001b[0minput\u001b[0m\u001b[0;34m,\u001b[0m \u001b[0;34m**\u001b[0m\u001b[0mkwargs\u001b[0m\u001b[0;34m)\u001b[0m\u001b[0;34m\u001b[0m\u001b[0;34m\u001b[0m\u001b[0m\n\u001b[1;32m    492\u001b[0m         \u001b[0;32melse\u001b[0m\u001b[0;34m:\u001b[0m\u001b[0;34m\u001b[0m\u001b[0;34m\u001b[0m\u001b[0m\n\u001b[0;32m--> 493\u001b[0;31m             \u001b[0mresult\u001b[0m \u001b[0;34m=\u001b[0m \u001b[0mself\u001b[0m\u001b[0;34m.\u001b[0m\u001b[0mforward\u001b[0m\u001b[0;34m(\u001b[0m\u001b[0;34m*\u001b[0m\u001b[0minput\u001b[0m\u001b[0;34m,\u001b[0m \u001b[0;34m**\u001b[0m\u001b[0mkwargs\u001b[0m\u001b[0;34m)\u001b[0m\u001b[0;34m\u001b[0m\u001b[0;34m\u001b[0m\u001b[0m\n\u001b[0m\u001b[1;32m    494\u001b[0m         \u001b[0;32mfor\u001b[0m \u001b[0mhook\u001b[0m \u001b[0;32min\u001b[0m \u001b[0mself\u001b[0m\u001b[0;34m.\u001b[0m\u001b[0m_forward_hooks\u001b[0m\u001b[0;34m.\u001b[0m\u001b[0mvalues\u001b[0m\u001b[0;34m(\u001b[0m\u001b[0;34m)\u001b[0m\u001b[0;34m:\u001b[0m\u001b[0;34m\u001b[0m\u001b[0;34m\u001b[0m\u001b[0m\n\u001b[1;32m    495\u001b[0m             \u001b[0mhook_result\u001b[0m \u001b[0;34m=\u001b[0m \u001b[0mhook\u001b[0m\u001b[0;34m(\u001b[0m\u001b[0mself\u001b[0m\u001b[0;34m,\u001b[0m \u001b[0minput\u001b[0m\u001b[0;34m,\u001b[0m \u001b[0mresult\u001b[0m\u001b[0;34m)\u001b[0m\u001b[0;34m\u001b[0m\u001b[0;34m\u001b[0m\u001b[0m\n",
            "\u001b[0;32m/content/git/pytorch/chapter7/layers/modules/multibox_loss.py\u001b[0m in \u001b[0;36mforward\u001b[0;34m(self, predictions, targets)\u001b[0m\n\u001b[1;32m     84\u001b[0m             \u001b[0;31m# 正解座標とボックス座標のマッチング\u001b[0m\u001b[0;34m\u001b[0m\u001b[0;34m\u001b[0m\u001b[0;34m\u001b[0m\u001b[0m\n\u001b[1;32m     85\u001b[0m             match(self.threshold, truths, defaults, self.variance, labels,\n\u001b[0;32m---> 86\u001b[0;31m                   loc_t, conf_t, idx)\n\u001b[0m\u001b[1;32m     87\u001b[0m         \u001b[0;32mif\u001b[0m \u001b[0mself\u001b[0m\u001b[0;34m.\u001b[0m\u001b[0muse_gpu\u001b[0m\u001b[0;34m:\u001b[0m\u001b[0;34m\u001b[0m\u001b[0;34m\u001b[0m\u001b[0m\n\u001b[1;32m     88\u001b[0m             \u001b[0;31m# handbook\u001b[0m\u001b[0;34m\u001b[0m\u001b[0;34m\u001b[0m\u001b[0;34m\u001b[0m\u001b[0m\n",
            "\u001b[0;32m/content/git/pytorch/chapter7/layers/box_utils.py\u001b[0m in \u001b[0;36mmatch\u001b[0;34m(threshold, truths, priors, variances, labels, loc_t, conf_t, idx)\u001b[0m\n\u001b[1;32m    114\u001b[0m     \u001b[0;31m# 正解座標の物体数でループ\u001b[0m\u001b[0;34m\u001b[0m\u001b[0;34m\u001b[0m\u001b[0;34m\u001b[0m\u001b[0m\n\u001b[1;32m    115\u001b[0m     \u001b[0;32mfor\u001b[0m \u001b[0mj\u001b[0m \u001b[0;32min\u001b[0m \u001b[0mrange\u001b[0m\u001b[0;34m(\u001b[0m\u001b[0mbest_prior_idx\u001b[0m\u001b[0;34m.\u001b[0m\u001b[0msize\u001b[0m\u001b[0;34m(\u001b[0m\u001b[0;36m0\u001b[0m\u001b[0;34m)\u001b[0m\u001b[0;34m)\u001b[0m\u001b[0;34m:\u001b[0m\u001b[0;34m\u001b[0m\u001b[0;34m\u001b[0m\u001b[0m\n\u001b[0;32m--> 116\u001b[0;31m         \u001b[0mbest_truth_idx\u001b[0m\u001b[0;34m[\u001b[0m\u001b[0mbest_prior_idx\u001b[0m\u001b[0;34m[\u001b[0m\u001b[0mj\u001b[0m\u001b[0;34m]\u001b[0m\u001b[0;34m]\u001b[0m \u001b[0;34m=\u001b[0m \u001b[0mj\u001b[0m\u001b[0;34m\u001b[0m\u001b[0;34m\u001b[0m\u001b[0m\n\u001b[0m\u001b[1;32m    117\u001b[0m     \u001b[0;31m# 8732個の各ボックスにマッチする正解座標をmatchesにセット\u001b[0m\u001b[0;34m\u001b[0m\u001b[0;34m\u001b[0m\u001b[0;34m\u001b[0m\u001b[0m\n\u001b[1;32m    118\u001b[0m     \u001b[0mmatches\u001b[0m \u001b[0;34m=\u001b[0m \u001b[0mtruths\u001b[0m\u001b[0;34m[\u001b[0m\u001b[0mbest_truth_idx\u001b[0m\u001b[0;34m]\u001b[0m          \u001b[0;31m# Shape: [num_priors,4]\u001b[0m\u001b[0;34m\u001b[0m\u001b[0;34m\u001b[0m\u001b[0m\n",
            "\u001b[0;31mKeyboardInterrupt\u001b[0m: "
          ]
        }
      ]
    },
    {
      "cell_type": "code",
      "metadata": {
        "id": "O4ILdWUja2B4",
        "colab_type": "code",
        "colab": {}
      },
      "source": [
        ""
      ],
      "execution_count": 0,
      "outputs": []
    }
  ]
}